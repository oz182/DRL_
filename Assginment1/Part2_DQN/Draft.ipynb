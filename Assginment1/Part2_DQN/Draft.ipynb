{
 "cells": [
  {
   "cell_type": "code",
   "execution_count": 2,
   "metadata": {},
   "outputs": [],
   "source": [
    "import torch"
   ]
  },
  {
   "cell_type": "code",
   "execution_count": 39,
   "metadata": {},
   "outputs": [
    {
     "name": "stdout",
     "output_type": "stream",
     "text": [
      "[[0.5, 0.2], [1.2, 0.7], [1.9, 0.3]]\n",
      "[1, 0, 1]\n"
     ]
    }
   ],
   "source": [
    "q_values = [[0.5, 0.2], [1.2, 0.7], [1.9, 0.3]]\n",
    "actions = [1, 0, 1]\n",
    "\n",
    "print(q_values)\n",
    "print(actions)"
   ]
  },
  {
   "cell_type": "code",
   "execution_count": 46,
   "metadata": {},
   "outputs": [
    {
     "name": "stderr",
     "output_type": "stream",
     "text": [
      "/var/folders/jq/9y7v6qbd06g8j3w_t6v0pxl80000gn/T/ipykernel_27442/3688498030.py:1: UserWarning: To copy construct from a tensor, it is recommended to use sourceTensor.clone().detach() or sourceTensor.clone().detach().requires_grad_(True), rather than torch.tensor(sourceTensor).\n",
      "  q_values = torch.tensor(q_values)\n",
      "/var/folders/jq/9y7v6qbd06g8j3w_t6v0pxl80000gn/T/ipykernel_27442/3688498030.py:2: UserWarning: To copy construct from a tensor, it is recommended to use sourceTensor.clone().detach() or sourceTensor.clone().detach().requires_grad_(True), rather than torch.tensor(sourceTensor).\n",
      "  actions = torch.tensor(actions)\n"
     ]
    }
   ],
   "source": [
    "q_values = torch.tensor(q_values)\n",
    "actions = torch.tensor(actions)"
   ]
  },
  {
   "cell_type": "code",
   "execution_count": 49,
   "metadata": {},
   "outputs": [
    {
     "name": "stdout",
     "output_type": "stream",
     "text": [
      "tensor([[0.5000, 0.2000],\n",
      "        [1.2000, 0.7000],\n",
      "        [1.9000, 0.3000]])\n",
      "torch.Size([3, 2])\n",
      "---\n",
      "tensor([1, 0, 1])\n",
      "torch.Size([3])\n"
     ]
    }
   ],
   "source": [
    "print(q_values)\n",
    "print(q_values.shape)\n",
    "print('---')\n",
    "print(actions)\n",
    "print(actions.shape)"
   ]
  },
  {
   "cell_type": "code",
   "execution_count": 60,
   "metadata": {},
   "outputs": [
    {
     "data": {
      "text/plain": [
       "tensor([[1],\n",
       "        [0],\n",
       "        [1]])"
      ]
     },
     "execution_count": 60,
     "metadata": {},
     "output_type": "execute_result"
    }
   ],
   "source": [
    "actions.unsqueeze(1)"
   ]
  },
  {
   "cell_type": "code",
   "execution_count": 63,
   "metadata": {},
   "outputs": [
    {
     "data": {
      "text/plain": [
       "tensor([[0.2000],\n",
       "        [1.2000],\n",
       "        [0.3000]])"
      ]
     },
     "execution_count": 63,
     "metadata": {},
     "output_type": "execute_result"
    }
   ],
   "source": [
    "q_values.gather(1, actions.unsqueeze(1))"
   ]
  },
  {
   "cell_type": "code",
   "execution_count": null,
   "metadata": {},
   "outputs": [],
   "source": []
  }
 ],
 "metadata": {
  "kernelspec": {
   "display_name": ".venv",
   "language": "python",
   "name": "python3"
  },
  "language_info": {
   "codemirror_mode": {
    "name": "ipython",
    "version": 3
   },
   "file_extension": ".py",
   "mimetype": "text/x-python",
   "name": "python",
   "nbconvert_exporter": "python",
   "pygments_lexer": "ipython3",
   "version": "3.9.6"
  },
  "orig_nbformat": 4
 },
 "nbformat": 4,
 "nbformat_minor": 2
}
